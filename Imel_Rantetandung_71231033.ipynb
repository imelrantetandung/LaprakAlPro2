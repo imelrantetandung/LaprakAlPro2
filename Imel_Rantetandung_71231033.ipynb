{
  "nbformat": 4,
  "nbformat_minor": 0,
  "metadata": {
    "colab": {
      "provenance": []
    },
    "kernelspec": {
      "name": "python3",
      "display_name": "Python 3"
    },
    "language_info": {
      "name": "python"
    }
  },
  "cells": [
    {
      "cell_type": "code",
      "execution_count": 1,
      "metadata": {
        "colab": {
          "base_uri": "https://localhost:8080/"
        },
        "id": "TbKaS6pDgvYc",
        "outputId": "df45d64a-28b0-42fb-bcce-b712307ade1d"
      },
      "outputs": [
        {
          "output_type": "stream",
          "name": "stdout",
          "text": [
            "Tinngi Badan Anda (m) : 1.6\n",
            "Body Mass Index yang Anda Harapkan : 18.5\n",
            "Berat Badan yang Anda Perlukan :  47.36000000000001\n"
          ]
        }
      ],
      "source": [
        "#SOAL NO 1\n",
        "#Program menghitung berat badan yang diperlukan jika diketahui tinggi badan dan Body Mass Index (BMI) yang diharapkan\n",
        "tinggiBadan = float(input(\"Tinngi Badan Anda (m) : \"))\n",
        "BMI = float(input(\"Body Mass Index yang Anda Harapkan : \"))\n",
        "#Rumus BMI adalah BMI = berat badan/tinggi badan**2. namun karena yang kita cari adalah berat badan maka rumusnya berubah\n",
        "#menjadi berat badan = BMI * tinggi badan**2\n",
        "beratBadan = BMI * tinggiBadan**2\n",
        "print(\"Berat Badan yang Anda Perlukan : \", beratBadan)\n"
      ]
    },
    {
      "cell_type": "code",
      "source": [
        "#SOAL NO 2\n",
        "#menghitung hasil dari fungsi f(x) = 2x**3 +2x+ 15/ x , di mana x merupakan bilangan bulat\n",
        "x = int(input(\"Masukkan x bilangan bulat : \"))\n",
        "\n",
        "hitungX = 2 * x**3 + 2 * x + 15/ x\n",
        "print(\"Hasil dari fungsi f(x) adalah : \", hitungX)\n",
        "\n"
      ],
      "metadata": {
        "colab": {
          "base_uri": "https://localhost:8080/"
        },
        "id": "QpJx8JAYhKFz",
        "outputId": "396f96f2-5ceb-439f-ebf6-0e323ea09280"
      },
      "execution_count": 2,
      "outputs": [
        {
          "output_type": "stream",
          "name": "stdout",
          "text": [
            "Masukkan x bilangan bulat : 3\n",
            "Hasil dari fungsi f(x) adalah :  65.0\n"
          ]
        }
      ]
    },
    {
      "cell_type": "code",
      "source": [
        "#SOAL NO 3\n",
        "gajiPerJam = float(input(\"Gaji Per Jam yang Anda Inginkan : Rp\"))\n",
        "jamKerja1Minggu = float(input(\"Jam Kerja Selama 1 Minggu : \"))\n",
        "\n",
        "gajiPerMinggu = gajiPerJam * jamKerja1Minggu\n",
        "totalGaji = gajiPerMinggu * 5\n",
        "\n",
        "print(\"Gaji Per Minggu Budi : Rp\", gajiPerMinggu)\n",
        "print(\"Gaji Selama 5 Minggu Bekerja : Rp\", totalGaji)\n",
        "\n",
        "print(\"=================================PENGELUARAN BUDI===================================================\")\n",
        "\n",
        "#Pendapatan Budi selama libur musim panas sebelum melakukan pembayaran pajak\n",
        "print(\"Pendapatan Budi sebelum melakukan pembayaran pajak : Rp\", totalGaji)\n",
        "\n",
        "#Pendapatan Budi selama libur musim panas setelah melakukan pembayaran pajak 14%\n",
        "potonganPajak = totalGaji * 0.14\n",
        "pajak = totalGaji - potonganPajak\n",
        "\n",
        "print(\"Pendapatan Budi setelah melakukan pembayaran pajak 14% : Rp\", pajak)\n",
        "\n",
        "#Jumlah uang yang akan Budi habiskan untuk membeli pakaian dan aksesoris 10%\n",
        "uangBeliPakaian = pajak * 0.1\n",
        "\n",
        "print(\"Jumlah uang Budi untuk membeli pakaian dan aksesoris 10% : Rp\", uangBeliPakaian)\n",
        "\n",
        "#Jumlah uang yang akan Budi habiskan untuk membeli alat tulis 1%\n",
        "uangBeliAlat = pajak * 0.01\n",
        "\n",
        "print(\"Jumlah uang Budi untuk membeli alat tulis 1% : Rp\", uangBeliAlat)\n",
        "#Sisa uang Budi setelah membeli pakaian, aksesoris, dan alat tulis\n",
        "sisaUang = pajak - uangBeliPakaian - uangBeliAlat\n",
        "\n",
        "#Jumlah uang yang akan Budi sedekahkan 25% dari sisa uang\n",
        "sedekah = sisaUang * 0.25\n",
        "\n",
        "print(\"Jumlah uang yang akan Budi sedekahkan : Rp\", sedekah)\n",
        "\n",
        "#Jumlah uang yang akan diterima anak yatim Setiap Rp.1000 yang Budi sedekahkan 30% nya akan diserahkan kepada anak yatim\n",
        "yatim = (sedekah / 1000)* 0.3 * 1000\n",
        "\n",
        "print(\"Jumlah uang yang akan diterima anak yatim : Rp\", yatim)\n",
        "\n",
        "#Jumlah uang yang akan diterima kaum dhuafa, karena sisa dari sedekah ke anak yatim maka 70% untuk kaum dhuafa\n",
        "kaumDhuafa = (sedekah/ 1000) * 0.7 * 1000\n",
        "print(\"Jumlah uang yang akan diterima kaum dhuafa : Rp\", kaumDhuafa)\n",
        "\n",
        "\n"
      ],
      "metadata": {
        "colab": {
          "base_uri": "https://localhost:8080/"
        },
        "id": "AjB6D5N-hVqz",
        "outputId": "e2b4b50c-67de-427b-f178-e8952f0ef34c"
      },
      "execution_count": 3,
      "outputs": [
        {
          "output_type": "stream",
          "name": "stdout",
          "text": [
            "Gaji Per Jam yang Anda Inginkan : Rp100000\n",
            "Jam Kerja Selama 1 Minggu : 35\n",
            "Gaji Per Minggu Budi : Rp 3500000.0\n",
            "Gaji Selama 5 Minggu Bekerja : Rp 17500000.0\n",
            "=================================PENGELUARAN BUDI===================================================\n",
            "Pendapatan Budi sebelum melakukan pembayaran pajak : Rp 17500000.0\n",
            "Pendapatan Budi setelah melakukan pembayaran pajak 14% : Rp 15050000.0\n",
            "Jumlah uang Budi untuk membeli pakaian dan aksesoris 10% : Rp 1505000.0\n",
            "Jumlah uang Budi untuk membeli alat tulis 1% : Rp 150500.0\n",
            "Jumlah uang yang akan Budi sedekahkan : Rp 3348625.0\n",
            "Jumlah uang yang akan diterima anak yatim : Rp 1004587.5\n",
            "Jumlah uang yang akan diterima kaum dhuafa : Rp 2344037.5\n"
          ]
        }
      ]
    }
  ]
}